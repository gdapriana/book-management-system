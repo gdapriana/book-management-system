{
  "nbformat": 4,
  "nbformat_minor": 0,
  "metadata": {
    "colab": {
      "provenance": [],
      "authorship_tag": "ABX9TyO41qTKMjFrjgzyFxpcJgps",
      "include_colab_link": true
    },
    "kernelspec": {
      "name": "python3",
      "display_name": "Python 3"
    },
    "language_info": {
      "name": "python"
    }
  },
  "cells": [
    {
      "cell_type": "markdown",
      "metadata": {
        "id": "view-in-github",
        "colab_type": "text"
      },
      "source": [
        "<a href=\"https://colab.research.google.com/github/icequeenwand/book-management-system/blob/main/TensorFlow-Developer-Certificate-Exam-Simulation/Submission_A.ipynb\" target=\"_parent\"><img src=\"https://colab.research.google.com/assets/colab-badge.svg\" alt=\"Open In Colab\"/></a>"
      ]
    },
    {
      "cell_type": "code",
      "execution_count": null,
      "metadata": {
        "id": "wOg77jxVjm3U"
      },
      "outputs": [],
      "source": [
        "# =================================================================================\n",
        "# PROBLEM A1\n",
        "#\n",
        "# Given two arrays, train a neural network model to match the X to the Y.\n",
        "# Predict the model with new values of X [-2.0, 10.0]\n",
        "# We provide the model prediction, do not change the code.\n",
        "#\n",
        "# The test infrastructure expects a trained model that accepts\n",
        "# an input shape of [1].\n",
        "# Do not use lambda layers in your model.\n",
        "#\n",
        "# Please be aware that this is a linear model.\n",
        "# We will test your model with values in a range as defined in the array to make sure your model is linear.\n",
        "#\n",
        "# Desired loss (MSE) < 1e-4\n",
        "# =================================================================================\n",
        "\n",
        "import numpy as np\n",
        "import tensorflow as tf\n",
        "from tensorflow import keras\n",
        "\n",
        "def solution_A1():\n",
        "    # DO NOT CHANGE THIS CODE\n",
        "    X = np.array([-4.0, -3.0, -2.0, -1.0, 0.0, 1.0,\n",
        "                 2.0, 3.0, 4.0, 5.0], dtype=float)\n",
        "    Y = np.array([5.0, 6.0, 7.0, 8.0, 9.0, 10.0, 11.0,\n",
        "                 12.0, 13.0, 14.0, ], dtype=float)\n",
        "\n",
        "    # YOUR CODE HERE\n",
        "    model = keras.Sequential([\n",
        "        keras.layers.Dense(1, input_shape=[1])\n",
        "    ])\n",
        "\n",
        "    callback = keras.callbacks.EarlyStopping(monitor=\"loss\", patience=1e-4)\n",
        "\n",
        "    model.compile(optimizer=\"sgd\", loss=\"mse\")\n",
        "    model.fit(X, Y, epochs=1000, callbacks=[callback])\n",
        "\n",
        "    print(model.predict([-2.0, 10.0]))\n",
        "    return model\n",
        "\n",
        "\n",
        "# The code below is to save your model as a .h5 file.\n",
        "# It will be saved automatically in your Submission folder.\n",
        "if __name__ == '__main__':\n",
        "    # DO NOT CHANGE THIS CODE\n",
        "    model = solution_A1()\n",
        "    model.save(\"model_A1.h5\")\n"
      ]
    }
  ]
}